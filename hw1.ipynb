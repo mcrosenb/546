{
 "cells": [
  {
   "cell_type": "markdown",
   "metadata": {},
   "source": [
    "# 546 (hybrid systems) hw1\n",
    "\n",
    "You are welcome (and encouraged) to work with others, but each individual must submit their own writeup.\n",
    "\n",
    "You are welcome to use analytical and numerical computational tools; if you do, include the **commented** sourcecode in your writeup (e.g. the .ipynb file).\n",
    "\n",
    "You are welcome to consult research articles and other materials; if you do, include a full citation in your writeup (e.g. the .ipynb file) and upload a .pdf of the article to Canvas alongside your homework submission."
   ]
  },
  {
   "cell_type": "markdown",
   "metadata": {},
   "source": [
    "# hybrid system examples (lecture)\n",
    "\n",
    "Choose one of the following example hybrid systems from lecture:  ball bouncing; neuron firing; protein binding; thermostat switching.  \n",
    "\n",
    "a. Add an application-relevant input; does your input change whether the discrete transitions are *switched* or *forced*?\n",
    "\n",
    "b. Specify the hybrid system elements $(D,U,F,G,R)$ for your system from (a.)."
   ]
  },
  {
   "cell_type": "markdown",
   "metadata": {},
   "source": [
    "# hybrid system examples (literature)\n",
    "\n",
    "Choose an example hybrid system other than those given in lecture (i.e. **NOT**  ball bouncing; neuron firing; protein binding; thermostat switching); you are welcome to choose a system from a conference or journal paper.\n",
    "\n",
    "a. Describe the system, and what makes it hybrid; are the discrete transitions *switched* or *forced*?\n",
    "\n",
    "b. Specify the hybrid system elements $(D,U,F,G,R)$ for your system from (a.)."
   ]
  },
  {
   "cell_type": "markdown",
   "metadata": {},
   "source": [
    "# combining hybrid systems\n",
    "Determine how to combine two hybrid systems $H_1$, $H_2$ to produce a third hybrid system $H$ that has $H_1$ and $H_2$ as subsystems.\n",
    "\n",
    "*Hint:  pay extra attention to the definition of the guard for $H$.*"
   ]
  }
 ],
 "metadata": {
  "anaconda-cloud": {},
  "kernelspec": {
   "display_name": "Python 2",
   "language": "python",
   "name": "python2"
  },
  "language_info": {
   "codemirror_mode": {
    "name": "ipython",
    "version": 2
   },
   "file_extension": ".py",
   "mimetype": "text/x-python",
   "name": "python",
   "nbconvert_exporter": "python",
   "pygments_lexer": "ipython2",
   "version": "2.7.10"
  }
 },
 "nbformat": 4,
 "nbformat_minor": 0
}

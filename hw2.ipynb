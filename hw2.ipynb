{
 "cells": [
  {
   "cell_type": "markdown",
   "metadata": {},
   "source": [
    "# 546 (hybrid systems) hw2\n",
    "\n",
    "You are welcome (and encouraged) to work with others, but each individual must submit their own writeup.\n",
    "\n",
    "You are welcome to use analytical and numerical computational tools; if you do, include the **commented** sourcecode in your writeup (e.g. the .ipynb file).\n",
    "\n",
    "You are welcome to consult research articles and other materials; if you do, include a full citation in your writeup (e.g. the .ipynb file) and upload a .pdf of the article to Canvas alongside your homework submission."
   ]
  },
  {
   "cell_type": "markdown",
   "metadata": {},
   "source": [
    "# simulating discrete systems\n",
    "\n",
    "a. Write a simulation algorithm for discrete systems; use the following function signature:"
   ]
  },
  {
   "cell_type": "code",
   "execution_count": null,
   "metadata": {
    "collapsed": true
   },
   "outputs": [],
   "source": [
    "def sim_discrete(self, R, a, K, j0):\n",
    "  \"\"\"\n",
    "  numerical simulation for discrete system\n",
    "\n",
    "  inputs:\n",
    "    R : [0,K] x J x A -> J\n",
    "    a : [0,K] x J -> A\n",
    "      [0,K] - discrete times\n",
    "      J - discrete states\n",
    "      A - actions\n",
    "    K   - int    - maximum discrete simulation time\n",
    "    j0  - object - initial discrete state\n",
    "\n",
    "  outputs:\n",
    "    k - list - discrete times\n",
    "    j - list - discrete states\n",
    "  \"\"\"\n",
    "  # ...\n",
    "  return k,j"
   ]
  },
  {
   "cell_type": "markdown",
   "metadata": {},
   "source": [
    "b. Demonstrate that your simulation algorithm works correctly by applying it to an interesting example, explaining the expected behavior, and providing a visualization that demonstrates the expected behavior."
   ]
  },
  {
   "cell_type": "markdown",
   "metadata": {},
   "source": [
    "# simulating continuous systems\n",
    "\n",
    "a. Write a simulation algorithm for continuous systems; use the following function signature:"
   ]
  },
  {
   "cell_type": "code",
   "execution_count": 4,
   "metadata": {
    "collapsed": true
   },
   "outputs": [],
   "source": [
    "def sim_continuous(self, F, u, T, x0, dt):\n",
    "  \"\"\"\n",
    "  numerical simulation for continuous system\n",
    "\n",
    "  inputs:\n",
    "    F : [0,T] x D x U -> D\n",
    "    u : [0,T] x D -> U\n",
    "      [0,T] - continuous times\n",
    "      D - continuous states\n",
    "      U - inputs\n",
    "    T   - scalar - maximum continuous simulation time\n",
    "    x0  - object - initial continuous state\n",
    "    dt  - scalar - simulation timestep parameter\n",
    "\n",
    "  outputs:\n",
    "    t - list - discrete times\n",
    "    x - list - discrete states\n",
    "  \"\"\"\n",
    "  # ...\n",
    "  return t,x"
   ]
  },
  {
   "cell_type": "markdown",
   "metadata": {},
   "source": [
    "b. Demonstrate that your simulation algorithm works correctly by applying it to an interesting example, explaining the expected behavior, and providing a visualization that demonstrates the expected behavior."
   ]
  }
 ],
 "metadata": {
  "anaconda-cloud": {},
  "kernelspec": {
   "display_name": "Python 2",
   "language": "python",
   "name": "python2"
  },
  "language_info": {
   "codemirror_mode": {
    "name": "ipython",
    "version": 2
   },
   "file_extension": ".py",
   "mimetype": "text/x-python",
   "name": "python",
   "nbconvert_exporter": "python",
   "pygments_lexer": "ipython2",
   "version": "2.7.10"
  }
 },
 "nbformat": 4,
 "nbformat_minor": 0
}

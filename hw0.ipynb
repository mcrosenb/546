{
 "cells": [
  {
   "cell_type": "markdown",
   "metadata": {},
   "source": [
    "# 546 (hybrid systems) hw0\n",
    "\n",
    "This assignment will be graded on participation; so long as you make an effort on each problem and upload a legible pdf to Canvas, you will receive full credit."
   ]
  },
  {
   "cell_type": "markdown",
   "metadata": {},
   "source": [
    "# welcome to hybrid systems!\n",
    "\n",
    "a. Where are you at in your current program?  (e.g. 3rd year PhD student in EE), what were you doing before you enrolled in your current program, and what do you hope to do after you graduate?\n",
    "\n",
    "b. Why did you enroll in this course, what do you hope to learn, and how do you plan to apply what you've learned?\n",
    "\n",
    "c. Would you prefer a greater emphasis on theory (i.e. abstract reasoning), computation (i.e. numerical algorithms), a mixture of both, or something else (explain)?\n",
    "\n",
    "d. Log in to Canvas and edit your Profile.  At a minimum, add a headshot photo and specify your preferred name.  Ideally, also add some details about your background and interests -- see my example at https://canvas.uw.edu/about/3510568.  (Note that this information is available to classmates and instructors in this and the other courses you're enrolled in at UW; it is not publicly available.)"
   ]
  }
 ],
 "metadata": {
  "anaconda-cloud": {},
  "kernelspec": {
   "display_name": "Python 2",
   "language": "python",
   "name": "python2"
  },
  "language_info": {
   "codemirror_mode": {
    "name": "ipython",
    "version": 2
   },
   "file_extension": ".py",
   "mimetype": "text/x-python",
   "name": "python",
   "nbconvert_exporter": "python",
   "pygments_lexer": "ipython2",
   "version": "2.7.10"
  }
 },
 "nbformat": 4,
 "nbformat_minor": 0
}
